{
  "nbformat": 4,
  "nbformat_minor": 0,
  "metadata": {
    "colab": {
      "provenance": []
    },
    "kernelspec": {
      "name": "python3",
      "display_name": "Python 3"
    },
    "language_info": {
      "name": "python"
    }
  },
  "cells": [
    {
      "cell_type": "code",
      "execution_count": 1,
      "metadata": {
        "colab": {
          "base_uri": "https://localhost:8080/"
        },
        "id": "JVfpxAtzS4Km",
        "outputId": "975b04f6-883a-4c4d-df3d-38dfec55e812"
      },
      "outputs": [
        {
          "output_type": "stream",
          "name": "stdout",
          "text": [
            "[7 8 6 7 8 6 3 6]\n"
          ]
        }
      ],
      "source": [
        "# creating vector A: \"Assessment\"\n",
        "\n",
        "import numpy as np\n",
        "A = np.array([ 7, 8, 6, 7, 8, 6, 3, 6])\n",
        "print(A)"
      ]
    },
    {
      "cell_type": "code",
      "source": [
        "# calculating the sum of the elements of vector A: \"happiness indicator.\"\n",
        "\n",
        "sum_a = np.sum(A)\n",
        "print(sum_a)"
      ],
      "metadata": {
        "colab": {
          "base_uri": "https://localhost:8080/"
        },
        "id": "BzDo65z1XXr1",
        "outputId": "089c46c2-a72f-4468-d769-c149c74ea245"
      },
      "execution_count": 3,
      "outputs": [
        {
          "output_type": "stream",
          "name": "stdout",
          "text": [
            "51\n"
          ]
        }
      ]
    },
    {
      "cell_type": "code",
      "source": [
        "# creating a vector B: \"The metrics of my life distribution across different spheres\"\n",
        "\n",
        "B = np.array([42, 7, 7, 7, 14, 14, 7, 7])\n",
        "print(B)"
      ],
      "metadata": {
        "colab": {
          "base_uri": "https://localhost:8080/"
        },
        "id": "vp1FKd2-ZyM_",
        "outputId": "819024ba-90ac-48ee-a20b-da6d2aff91e4"
      },
      "execution_count": 12,
      "outputs": [
        {
          "output_type": "stream",
          "name": "stdout",
          "text": [
            "[42  7  7  7 14 14  7  7]\n"
          ]
        }
      ]
    },
    {
      "cell_type": "code",
      "source": [
        "# calculating vector C: \"My life efficiency\"\n",
        "\n",
        "C = A/B\n",
        "print(C)"
      ],
      "metadata": {
        "colab": {
          "base_uri": "https://localhost:8080/"
        },
        "id": "1fLooXxBaazu",
        "outputId": "1652b279-b3a9-413e-8fde-7471969cd816"
      },
      "execution_count": 5,
      "outputs": [
        {
          "output_type": "stream",
          "name": "stdout",
          "text": [
            "[0.16666667 1.14285714 0.85714286 1.         0.57142857 0.42857143\n",
            " 0.42857143 0.85714286]\n"
          ]
        }
      ]
    },
    {
      "cell_type": "code",
      "source": [
        "# creating vector D: \"Redistributed number of hours\"\n",
        "\n",
        "D = np.array([36, 13, 10, 10, 15, 10, 4, 7])\n",
        "print(D)"
      ],
      "metadata": {
        "colab": {
          "base_uri": "https://localhost:8080/"
        },
        "id": "aN0gwnnYawvM",
        "outputId": "c101070f-5a47-4440-ead0-c983b4d93d07"
      },
      "execution_count": 13,
      "outputs": [
        {
          "output_type": "stream",
          "name": "stdout",
          "text": [
            "[36 13 10 10 15 10  4  7]\n"
          ]
        }
      ]
    },
    {
      "cell_type": "code",
      "source": [
        "# calculating vector E: \"my forecasted satisfaction with the respective life spheres.\"\n",
        "\n",
        "E = D * C\n",
        "print(E)\n"
      ],
      "metadata": {
        "colab": {
          "base_uri": "https://localhost:8080/"
        },
        "id": "sE3J9H3_a80B",
        "outputId": "4ad69334-4539-4f33-e074-a4a0a955490a"
      },
      "execution_count": 7,
      "outputs": [
        {
          "output_type": "stream",
          "name": "stdout",
          "text": [
            "[ 6.         14.85714286  8.57142857 10.          8.57142857  4.28571429\n",
            "  1.71428571  6.        ]\n"
          ]
        }
      ]
    },
    {
      "cell_type": "code",
      "source": [
        "# calculating the sum of the elements of vector E: \"my the forecasted happiness indicator\"\n",
        "\n",
        "sum_e = np.sum(E)\n",
        "print(sum_e)"
      ],
      "metadata": {
        "colab": {
          "base_uri": "https://localhost:8080/"
        },
        "id": "uBOXJlzBbgM9",
        "outputId": "729c09e3-7b58-4402-f353-e04a59655413"
      },
      "execution_count": 8,
      "outputs": [
        {
          "output_type": "stream",
          "name": "stdout",
          "text": [
            "60.0\n"
          ]
        }
      ]
    }
  ]
}