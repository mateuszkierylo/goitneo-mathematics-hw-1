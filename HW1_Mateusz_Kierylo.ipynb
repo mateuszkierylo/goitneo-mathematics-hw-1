{
  "nbformat": 4,
  "nbformat_minor": 0,
  "metadata": {
    "colab": {
      "provenance": []
    },
    "kernelspec": {
      "name": "python3",
      "display_name": "Python 3"
    },
    "language_info": {
      "name": "python"
    }
  },
  "cells": [
    {
      "cell_type": "code",
      "execution_count": 13,
      "metadata": {
        "colab": {
          "base_uri": "https://localhost:8080/"
        },
        "id": "JVfpxAtzS4Km",
        "outputId": "bbff32e6-9edb-453d-ade2-d654cdede639"
      },
      "outputs": [
        {
          "output_type": "stream",
          "name": "stdout",
          "text": [
            "[7 8 6 7 8 6 3 6]\n",
            "51\n",
            "[42  7  7  7 14 14  7  7]\n",
            "[0.16666667 1.14285714 0.85714286 1.         0.57142857 0.42857143\n",
            " 0.42857143 0.85714286]\n",
            "[36 13 10 10 15 10  4  7]\n",
            "[ 6.         14.85714286  8.57142857 10.          8.57142857  4.28571429\n",
            "  1.71428571  6.        ]\n",
            "60.0\n"
          ]
        }
      ],
      "source": [
        "import numpy as np\n",
        "A = np.array([ 7, 8, 6, 7, 8, 6, 3, 6])\n",
        "print(A)\n",
        "\n",
        "sum_a = np.sum(A)\n",
        "print(sum_a)\n",
        "\n",
        "B = np.array([42, 7, 7, 7, 14, 14, 7, 7])\n",
        "print(B)\n",
        "\n",
        "\n",
        "C = A/B\n",
        "print(C)\n",
        "\n",
        "D = np.array([36, 13, 10, 10, 15, 10, 4, 7])\n",
        "print(D)\n",
        "\n",
        "E = D * C\n",
        "print(E)\n",
        "\n",
        "sum_e = np.sum(E)\n",
        "print(sum_e)\n",
        "\n"
      ]
    }
  ]
}